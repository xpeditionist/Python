{
 "cells": [
  {
   "cell_type": "code",
   "execution_count": 5,
   "metadata": {},
   "outputs": [],
   "source": [
    "from email.mime.multipart import MIMEMultipart\n",
    "from email.mime.text import MIMEText"
   ]
  },
  {
   "cell_type": "code",
   "execution_count": 6,
   "metadata": {},
   "outputs": [],
   "source": [
    "fromadd=\"abc@gmail.com\"\n",
    "toadd=\"wisepsk@gmail.com\"\n",
    "toaddl = [toadd]"
   ]
  },
  {
   "cell_type": "code",
   "execution_count": null,
   "metadata": {},
   "outputs": [],
   "source": [
    "msg=MIMEMultipart()\n",
    "msg[\"From\"]=fromadd\n",
    "msg[\"To\"]=toadd\n",
    "msg[\"Sub\"]=\"Write subject here\"\n",
    "body=''' Dear Mr.XYZ,\n",
    "\n",
    "Write your body here\n",
    "\n",
    "Regards\n",
    "Pushkar Kulkarni\n",
    "'''\n",
    "msg.attach(MIMEText(body,'plain'))\n",
    "filename=\"filename to attach\"\n",
    "f=file(filename)\n",
    "attachment=MIMEText(f.read())\n",
    "attachment.add_header('content-disposition','attachment',filename=filename)\n",
    "msg.attach(attachment)\n",
    "\n",
    "import smtplib\n",
    "server = smtplib.SMTP(host=\"smtp.gmail.com\",port=587)\n",
    "server.ehlo()\n",
    "server.starttls()\n",
    "server.ehlo()\n",
    "server.login(\"abc@gmail.com\",\"password\")\n",
    "text=msg.as_string()\n",
    "server.sendmail(fromadd,toadd,text)\n",
    "server.quit()"
   ]
  }
 ],
 "metadata": {
  "kernelspec": {
   "display_name": "Python 3",
   "language": "python",
   "name": "python3"
  },
  "language_info": {
   "codemirror_mode": {
    "name": "ipython",
    "version": 3
   },
   "file_extension": ".py",
   "mimetype": "text/x-python",
   "name": "python",
   "nbconvert_exporter": "python",
   "pygments_lexer": "ipython3",
   "version": "3.7.6"
  }
 },
 "nbformat": 4,
 "nbformat_minor": 4
}
